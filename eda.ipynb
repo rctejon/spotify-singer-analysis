{
 "cells": [
  {
   "cell_type": "markdown",
   "metadata": {
    "colab_type": "text",
    "id": "view-in-github"
   },
   "source": [
    "<a href=\"https://colab.research.google.com/github/datascience-uniandes/eda-tutorial/blob/master/eda-tutorial.ipynb\" target=\"_parent\"><img src=\"https://colab.research.google.com/assets/colab-badge.svg\" alt=\"Open In Colab\"/></a>"
   ]
  },
  {
   "cell_type": "markdown",
   "metadata": {
    "id": "5p6U1zpoerxv",
    "tags": []
   },
   "source": [
    "# Exploratory Data Analysis (EDA) and Visualization tutorial\n",
    "\n",
    "MINE-4101: Applied Data Science  \n",
    "Univerisdad de los Andes  \n",
    "  \n",
    "Dataset: FIFA\n",
    "  \n",
    "Last update: August, 2022"
   ]
  },
  {
   "cell_type": "code",
   "execution_count": null,
   "metadata": {
    "id": "raVCcL23erxw"
   },
   "outputs": [],
   "source": [
    "!pip install --upgrade pandas-profiling"
   ]
  },
  {
   "cell_type": "code",
   "execution_count": null,
   "metadata": {
    "id": "KLlWRifAmyqC"
   },
   "outputs": [],
   "source": [
    "!pip install markupsafe==2.0.1"
   ]
  },
  {
   "cell_type": "code",
   "execution_count": null,
   "metadata": {
    "id": "X4T1Rk_yerxx"
   },
   "outputs": [],
   "source": [
    "# Importing libraries\n",
    "\n",
    "import numpy as np\n",
    "import pandas as pd\n",
    "\n",
    "import matplotlib.pyplot as plt\n",
    "import seaborn as sns\n",
    "\n",
    "from pandas_profiling import ProfileReport\n",
    "\n",
    "%matplotlib inline"
   ]
  },
  {
   "cell_type": "code",
   "execution_count": null,
   "metadata": {
    "id": "fRyhiCBperxx"
   },
   "outputs": [],
   "source": [
    "# Panadas configuration for extending the number of rows and columns to visualize, if not limit set parameter to None or -1\n",
    "pd.set_option('display.max_rows', 100)\n",
    "pd.set_option('display.max_columns', 100)"
   ]
  },
  {
   "cell_type": "markdown",
   "metadata": {},
   "source": [
    "### Loading the data"
   ]
  },
  {
   "cell_type": "code",
   "execution_count": null,
   "metadata": {
    "id": "5VBZ3Vceerxx"
   },
   "outputs": [],
   "source": [
    "# Loading the CSV file as dataframe\n",
    "fifa_df = pd.read_csv('./data/fifa.csv')"
   ]
  },
  {
   "cell_type": "code",
   "execution_count": null,
   "metadata": {
    "id": "Oa5ltomOerxy"
   },
   "outputs": [],
   "source": [
    "# Showing dataframe dimensions\n",
    "fifa_df.shape"
   ]
  },
  {
   "cell_type": "code",
   "execution_count": null,
   "metadata": {
    "id": "dE2awzI8erxy"
   },
   "outputs": [],
   "source": [
    "# Showing column types\n",
    "fifa_df.dtypes"
   ]
  },
  {
   "cell_type": "code",
   "execution_count": null,
   "metadata": {
    "id": "Hxv3NEHOerxz"
   },
   "outputs": [],
   "source": [
    "# Showing first rows\n",
    "fifa_df.head()"
   ]
  },
  {
   "cell_type": "markdown",
   "metadata": {
    "id": "LO3GdIneerxz"
   },
   "source": [
    "### Making some basic transformations for columns referring to money: *Value* and *Wage*"
   ]
  },
  {
   "cell_type": "code",
   "execution_count": null,
   "metadata": {
    "id": "UNkuBwdQerxz",
    "tags": []
   },
   "outputs": [],
   "source": [
    "# Analyzing unique values for columns Value and Wage\n",
    "set(''.join(fifa_df['Value'].values + fifa_df['Wage'].values))"
   ]
  },
  {
   "cell_type": "code",
   "execution_count": null,
   "metadata": {
    "id": "JaEEyBxserx0"
   },
   "outputs": [],
   "source": [
    "# Transforming columns to float based on thousand and million symbols\n",
    "\n",
    "def money_str_to_float(x):\n",
    "    x = x.replace('€', '')             # Removing euro symbol\n",
    "    if 'M' in x:                      # If value has million symbol, remove it and multiply by 1'000.000\n",
    "        x = x.replace('M', '')\n",
    "        return float(x) * 1000000\n",
    "    elif 'K' in x:                    # If value has thousand symbol, remove it and multiply by 1.000\n",
    "        x = x.replace('K', '')\n",
    "        return float(x) * 1000\n",
    "    else:                             # If any symbol is found, only transform the string to float\n",
    "        return float(x)\n",
    "\n",
    "fifa_df['Value'] = fifa_df['Value'].apply(money_str_to_float)\n",
    "fifa_df['Wage'] = fifa_df['Wage'].apply(money_str_to_float)"
   ]
  },
  {
   "cell_type": "code",
   "execution_count": null,
   "metadata": {
    "id": "Kow-ZZGkerx0"
   },
   "outputs": [],
   "source": [
    "fifa_df.head()"
   ]
  },
  {
   "cell_type": "markdown",
   "metadata": {
    "id": "MCcVrHn5erx0",
    "tags": []
   },
   "source": [
    "### Analyzing the *Value* column"
   ]
  },
  {
   "cell_type": "code",
   "execution_count": null,
   "metadata": {
    "id": "gOV0U87werx1"
   },
   "outputs": [],
   "source": [
    "# Getting the mean value for all players\n",
    "fifa_df['Value'].mean()"
   ]
  },
  {
   "cell_type": "code",
   "execution_count": null,
   "metadata": {
    "id": "jT6ekDaIerx1"
   },
   "outputs": [],
   "source": [
    "# Getting the median value for all players\n",
    "fifa_df['Value'].median()"
   ]
  },
  {
   "cell_type": "code",
   "execution_count": null,
   "metadata": {
    "id": "tGZWoMWwerx1"
   },
   "outputs": [],
   "source": [
    "# Getting the player with the highest value\n",
    "max_value = fifa_df['Value'].max()\n",
    "\n",
    "fifa_df.loc[fifa_df['Value'] == max_value]"
   ]
  },
  {
   "cell_type": "code",
   "execution_count": null,
   "metadata": {
    "id": "8IRpvjmDerx1"
   },
   "outputs": [],
   "source": [
    "# Getting the main statistics for the Value column\n",
    "fifa_df['Value'].describe()"
   ]
  },
  {
   "cell_type": "code",
   "execution_count": null,
   "metadata": {
    "id": "orqx5NO5erx1"
   },
   "outputs": [],
   "source": [
    "# Plotting the histogram for the column\n",
    "fifa_df['Value'].hist()"
   ]
  },
  {
   "cell_type": "code",
   "execution_count": null,
   "metadata": {
    "id": "Ypgk92Pjerx2"
   },
   "outputs": [],
   "source": [
    "# Defining the number of bins and the scale for the y-axis for better visualizing\n",
    "plt.figure()\n",
    "fifa_df['Value'].hist(bins = 50)\n",
    "plt.yscale('log')"
   ]
  },
  {
   "cell_type": "code",
   "execution_count": null,
   "metadata": {
    "id": "W6hTvnT2erx2"
   },
   "outputs": [],
   "source": [
    "# Plotting distribution but using a boxplot\n",
    "plt.figure(figsize = (18, 3))\n",
    "plt.boxplot(fifa_df['Value'], vert = False)"
   ]
  },
  {
   "cell_type": "code",
   "execution_count": null,
   "metadata": {
    "id": "hHle4Axyerx2"
   },
   "outputs": [],
   "source": [
    "# Which are the players with outlier values?\n",
    "fifa_df[fifa_df['Value'] > (fifa_df['Value'].mean() + fifa_df['Value'].std() * 3)]"
   ]
  },
  {
   "cell_type": "code",
   "execution_count": null,
   "metadata": {
    "id": "MKK52Otoerx4"
   },
   "outputs": [],
   "source": [
    "# Because the distribution is so skewed, a greatest number of standard deviations is used \n",
    "fifa_df[fifa_df['Value'] > (fifa_df['Value'].mean() + fifa_df['Value'].std() * 17)]"
   ]
  },
  {
   "cell_type": "code",
   "execution_count": null,
   "metadata": {
    "id": "dXP9615Xerx4"
   },
   "outputs": [],
   "source": [
    "# Using the method based on quartiles to select outliers\n",
    "iqr = (fifa_df['Value'].quantile(.75) - fifa_df['Value'].quantile(.25))\n",
    "fifa_df[fifa_df['Value'] > (fifa_df['Value'].quantile(.75) + iqr * 50)]"
   ]
  },
  {
   "cell_type": "markdown",
   "metadata": {
    "id": "cH7G5X4Aerx4",
    "tags": []
   },
   "source": [
    "### Analyzing *Preferred Positions* column"
   ]
  },
  {
   "cell_type": "code",
   "execution_count": null,
   "metadata": {
    "id": "_SgUnsnKerx4"
   },
   "outputs": [],
   "source": [
    "fifa_df['Preferred Positions'].unique()"
   ]
  },
  {
   "cell_type": "markdown",
   "metadata": {
    "id": "TH3EZ_L_erx4"
   },
   "source": [
    "<p style=\"color: red;\">How to handle players with multiple Preferred Positions?</p>\n",
    "\n",
    "<p style=\"color: red;\">Let's take the position with the highest score!</p>"
   ]
  },
  {
   "cell_type": "code",
   "execution_count": null,
   "metadata": {
    "id": "fMra_Vkcerx4"
   },
   "outputs": [],
   "source": [
    "# How many preferred positions the players have?\n",
    "\n",
    "def count_pref_positions(x):\n",
    "    return len(x.strip().split(' '))\n",
    "\n",
    "fifa_df['Preferred Positions'].apply(count_pref_positions).value_counts(dropna = False, normalize = True)"
   ]
  },
  {
   "cell_type": "code",
   "execution_count": null,
   "metadata": {
    "id": "JRsF-JY2erx5"
   },
   "outputs": [],
   "source": [
    "# Select the preferred position with highest score\n",
    "\n",
    "def get_pref_position(row):\n",
    "    pref_positions = row['Preferred Positions'].strip().split(' ')\n",
    "    if len(pref_positions) == 1:\n",
    "        return pref_positions[0]\n",
    "    else:\n",
    "        scores = np.array([row[p] for p in pref_positions])\n",
    "        i_max = np.argmax(scores)\n",
    "        return pref_positions[i_max]\n",
    "\n",
    "fifa_df['Preferred Position'] = fifa_df.apply(get_pref_position, axis = 1)"
   ]
  },
  {
   "cell_type": "code",
   "execution_count": null,
   "metadata": {
    "id": "oqsdASvderx5"
   },
   "outputs": [],
   "source": [
    "# Calculating absolute frecuency for preferred position\n",
    "pref_positions_abs_frec = fifa_df['Preferred Position'].value_counts(dropna = False)\n",
    "pref_positions_abs_frec"
   ]
  },
  {
   "cell_type": "code",
   "execution_count": null,
   "metadata": {
    "id": "kezCn1Uterx5"
   },
   "outputs": [],
   "source": [
    "# Plotting preferred position frecuency\n",
    "# WARNING: line chart assumes continuity. It is a better choice when dealing with a continuous variable or time\n",
    "pref_positions_abs_frec.plot()"
   ]
  },
  {
   "cell_type": "code",
   "execution_count": null,
   "metadata": {
    "id": "9K64vEHserx5"
   },
   "outputs": [],
   "source": [
    "# Plotting again preferred position frecuency, using a horizontal bar chart this time\n",
    "pref_positions_abs_frec.plot(kind = 'barh')"
   ]
  },
  {
   "cell_type": "code",
   "execution_count": null,
   "metadata": {
    "id": "OIluLulFerx5"
   },
   "outputs": [],
   "source": [
    "# Calculating absolute frecuency and concatenating results\n",
    "pref_positions_rel_frec = fifa_df['Preferred Position'].value_counts(dropna = False, normalize = True)\n",
    "pd.concat([pref_positions_abs_frec, pref_positions_rel_frec], axis = 1)"
   ]
  },
  {
   "cell_type": "markdown",
   "metadata": {
    "id": "HC1WZV2gerx5",
    "tags": []
   },
   "source": [
    "### Analyzing *Age* vs. *Value*"
   ]
  },
  {
   "cell_type": "code",
   "execution_count": null,
   "metadata": {
    "id": "c-q_qJP2erx5"
   },
   "outputs": [],
   "source": [
    "# Plotting a scatter plot for two quantitative variables\n",
    "plt.figure(figsize = (13, 7))\n",
    "plt.scatter(fifa_df['Age'], fifa_df['Value'], alpha = 0.5)\n",
    "plt.title('Age vs. Value')\n",
    "plt.xlabel('Age')\n",
    "plt.ylabel('Value')\n",
    "plt.show()"
   ]
  },
  {
   "cell_type": "code",
   "execution_count": null,
   "metadata": {
    "id": "IiQ43JD7erx5"
   },
   "outputs": [],
   "source": [
    "# What is the (linear) correlation coefficient?\n",
    "fifa_df[['Age', 'Value']].corr()"
   ]
  },
  {
   "cell_type": "code",
   "execution_count": null,
   "metadata": {
    "id": "KayMCOseerx5"
   },
   "outputs": [],
   "source": [
    "# What is the (monotonic) correlation coefficient?\n",
    "fifa_df[['Age', 'Value']].corr('spearman')"
   ]
  },
  {
   "cell_type": "markdown",
   "metadata": {
    "id": "CiLo_etGerx6"
   },
   "source": [
    "### Analyzing *Overall* vs. *Value*"
   ]
  },
  {
   "cell_type": "code",
   "execution_count": null,
   "metadata": {
    "id": "QkpcLQx3erx6"
   },
   "outputs": [],
   "source": [
    "# Plotting a scatter plot for two quantitative variables\n",
    "plt.figure(figsize = (13, 7))\n",
    "plt.scatter(fifa_df['Overall'], fifa_df['Value'], alpha = 0.5, color = 'orange')\n",
    "plt.title('Overall vs. Value')\n",
    "plt.xlabel('Overall')\n",
    "plt.ylabel('Value')\n",
    "plt.show()"
   ]
  },
  {
   "cell_type": "code",
   "execution_count": null,
   "metadata": {
    "id": "VU_TwV0berx6"
   },
   "outputs": [],
   "source": [
    "# What is the (linear) correlation coefficient?\n",
    "fifa_df[['Overall', 'Value']].corr()"
   ]
  },
  {
   "cell_type": "code",
   "execution_count": null,
   "metadata": {
    "id": "tv8ahrL1erx6"
   },
   "outputs": [],
   "source": [
    "# What is the (monotonic) correlation coefficient?\n",
    "fifa_df[['Overall', 'Value']].corr('spearman')"
   ]
  },
  {
   "cell_type": "markdown",
   "metadata": {
    "id": "FJMM9SSferx6"
   },
   "source": [
    "<p style=\"color: red;\">Why both methods give different correlation coefficients for the same pair of variables?</p>"
   ]
  },
  {
   "cell_type": "markdown",
   "metadata": {
    "id": "9KEcVr3Verx6"
   },
   "source": [
    "### Comparing among categories"
   ]
  },
  {
   "cell_type": "code",
   "execution_count": null,
   "metadata": {
    "id": "Y0uzlkILerx6"
   },
   "outputs": [],
   "source": [
    "# Plotting wage by club\n",
    "plt.figure(figsize = (13, 10))\n",
    "sns.boxplot(x = 'Club', y = 'Wage', data = fifa_df.loc[fifa_df['Club'].isin(['Independiente Santa Fe', 'CD Los Millionarios Bogota'])])"
   ]
  },
  {
   "cell_type": "code",
   "execution_count": null,
   "metadata": {
    "id": "sgsf4itperx6",
    "tags": []
   },
   "outputs": [],
   "source": [
    "# Plotting wage by club, including a differential club\n",
    "plt.figure(figsize = (13, 10))\n",
    "sns.boxplot(x = 'Club', y = 'Wage', data = fifa_df.loc[fifa_df['Club'].isin(['Independiente Santa Fe', 'CD Los Millionarios Bogota', 'Real Madrid CF'])])"
   ]
  },
  {
   "cell_type": "markdown",
   "metadata": {
    "id": "Btqs1K3Ferx6"
   },
   "source": [
    "### Profiling the data"
   ]
  },
  {
   "cell_type": "code",
   "execution_count": null,
   "metadata": {
    "id": "gFjsKzVierx6"
   },
   "outputs": [],
   "source": [
    "profile = ProfileReport(fifa_df)"
   ]
  },
  {
   "cell_type": "code",
   "execution_count": null,
   "metadata": {
    "id": "XfV0ii6Perx6"
   },
   "outputs": [],
   "source": [
    "profile.to_notebook_iframe()"
   ]
  },
  {
   "cell_type": "code",
   "execution_count": null,
   "metadata": {
    "id": "3I7tqdJterx6"
   },
   "outputs": [],
   "source": [
    "profile.to_file('report.html')"
   ]
  },
  {
   "cell_type": "markdown",
   "metadata": {
    "id": "i07Dpbg1tA4W"
   },
   "source": [
    "### Exporting clean date"
   ]
  },
  {
   "cell_type": "code",
   "execution_count": null,
   "metadata": {},
   "outputs": [],
   "source": [
    "fifa_df.to_csv('./data/fifa_clean.csv', index = False)"
   ]
  },
  {
   "cell_type": "code",
   "execution_count": null,
   "metadata": {},
   "outputs": [],
   "source": []
  }
 ],
 "metadata": {
  "colab": {
   "include_colab_link": true,
   "name": "eda-tutorial.ipynb",
   "provenance": []
  },
  "kernelspec": {
   "display_name": "Python 3 (ipykernel)",
   "language": "python",
   "name": "python3"
  },
  "language_info": {
   "codemirror_mode": {
    "name": "ipython",
    "version": 3
   },
   "file_extension": ".py",
   "mimetype": "text/x-python",
   "name": "python",
   "nbconvert_exporter": "python",
   "pygments_lexer": "ipython3",
   "version": "3.9.12"
  }
 },
 "nbformat": 4,
 "nbformat_minor": 4
}
